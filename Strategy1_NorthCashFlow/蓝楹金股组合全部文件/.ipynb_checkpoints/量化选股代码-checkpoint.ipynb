{
 "cells": [
  {
   "cell_type": "markdown",
   "id": "a3c91878",
   "metadata": {},
   "source": [
    "# Introduction"
   ]
  },
  {
   "cell_type": "markdown",
   "id": "a2877183",
   "metadata": {},
   "source": [
    "- **20210805 cholian**\n",
    "目前以一级行业进行了筛选，未做二级行业，回头做一下二级行业试一下"
   ]
  },
  {
   "cell_type": "markdown",
   "id": "85a7e574",
   "metadata": {},
   "source": [
    "# Package"
   ]
  },
  {
   "cell_type": "code",
   "execution_count": 2,
   "id": "63e1ec47",
   "metadata": {},
   "outputs": [],
   "source": [
    "import tushare as ts\n",
    "import pandas as pd\n",
    "# import matplotlib.pyplot as plt\n",
    "# import datetime\n",
    "import numpy as np\n",
    "import time\n",
    "import datetime"
   ]
  },
  {
   "cell_type": "code",
   "execution_count": 2,
   "id": "36263be8",
   "metadata": {},
   "outputs": [],
   "source": [
    "pro = ts.pro_api('')"
   ]
  },
  {
   "cell_type": "markdown",
   "id": "1e8d9380",
   "metadata": {},
   "source": [
    "## 参数选取"
   ]
  },
  {
   "cell_type": "markdown",
   "id": "914f89f9",
   "metadata": {},
   "source": [
    "##### --------------------------------- <font color='red'>需要手动更新的地方 start </font>------------------------------------------------------"
   ]
  },
  {
   "cell_type": "markdown",
   "id": "74439426",
   "metadata": {},
   "source": [
    "### 日期参数 （每周更新）"
   ]
  },
  {
   "cell_type": "code",
   "execution_count": 3,
   "id": "6d90efad",
   "metadata": {},
   "outputs": [],
   "source": [
    "# 日期参数\n",
    "# 提取上周五股票的原因是因为，周一要计算净流入的话，就要和上周五进行对比，因此，需要额外的把上周五的也提取出来\n",
    "start_date =\"20210806\" # 上周五的日期\n",
    "end_date = \"20210813\" # 最新周五的日期"
   ]
  },
  {
   "cell_type": "markdown",
   "id": "1ea103cc",
   "metadata": {},
   "source": [
    "### 行业股票参数（可选）"
   ]
  },
  {
   "cell_type": "code",
   "execution_count": 4,
   "id": "75bf3ee4",
   "metadata": {},
   "outputs": [],
   "source": [
    "# 选取前几名行业 （默认为5）\n",
    "top_industry = 5\n",
    "\n",
    "# 选取前几名的股票\n",
    "top_share = 5"
   ]
  },
  {
   "cell_type": "markdown",
   "id": "f0e6d463",
   "metadata": {},
   "source": [
    "##### ---------------------------------<font color='blue'>需要手动更新的地方 end </font> ------------------------------------------------------"
   ]
  },
  {
   "cell_type": "markdown",
   "id": "2e1c9da5",
   "metadata": {},
   "source": [
    "## 准备函数"
   ]
  },
  {
   "cell_type": "code",
   "execution_count": 5,
   "id": "73175aec",
   "metadata": {},
   "outputs": [],
   "source": [
    "day = (pd.to_datetime(end_date)- pd.to_datetime(start_date)).days"
   ]
  },
  {
   "cell_type": "code",
   "execution_count": 6,
   "id": "ef67a48c",
   "metadata": {},
   "outputs": [],
   "source": [
    "def sw_indurstry( level = \"L1\",pro = None):\n",
    "    #获取申万一级行业列表\n",
    "    df_first = pro.index_classify(level=level, src='SW')\n",
    "    df_first_detail = pd.DataFrame()\n",
    "    \n",
    "    for i in df_first['index_code']:\n",
    "\n",
    "        a = pro.index_member(index_code=i)\n",
    "        \n",
    "        df_first_detail = pd.concat([a,df_first_detail])\n",
    "        \n",
    "    return df_first_detail\n",
    "\n",
    "def trade_datetime(end_date='20210714',period = 7):\n",
    "    \n",
    "    end_date = pd.to_datetime(end_date)\n",
    "    dates = end_date - pd.to_timedelta(np.arange(period), unit = 'D')\n",
    "    dates = dates.strftime('%Y%m%d')\n",
    "\n",
    "    return dates\n",
    "\n",
    "\n",
    "def pivot_data(data,col_pivot,dates_pivot,value):\n",
    "    dates = pd.unique(data[dates_pivot])\n",
    "    result = pd.DataFrame(columns=pd.unique(data[col_pivot]))\n",
    "    result['date'] = ''\n",
    "    \n",
    "    for i in dates:\n",
    "\n",
    "        daily = data[data[dates_pivot] == i]\n",
    "        data_pivot = daily.groupby(col_pivot)[value].sum()\n",
    "        \n",
    "        a = pd.DataFrame(data_pivot).T\n",
    "        a['date'] = i\n",
    "        result = pd.concat([result,a])\n",
    "    return result\n",
    "\n",
    "def find_top(n,data):\n",
    "    top_list = pd.DataFrame()\n",
    "    for i,day in enumerate(data.index):\n",
    "        top_data = data.iloc[i].sort_values(ascending = False).head(n).index\n",
    "        top_list[day] = top_data\n",
    "        \n",
    "    return top_list"
   ]
  },
  {
   "cell_type": "code",
   "execution_count": 7,
   "id": "6e1cdb7c",
   "metadata": {},
   "outputs": [
    {
     "name": "stdout",
     "output_type": "stream",
     "text": [
      "Wall time: 5min 20s\n"
     ]
    }
   ],
   "source": [
    "%%time\n",
    "# 申万行业数据\n",
    "\n",
    "df_first_detail = sw_indurstry( level = \"L1\",pro = pro)\n",
    "df_second_detail = sw_indurstry( level = \"L2\",pro = pro)"
   ]
  },
  {
   "cell_type": "code",
   "execution_count": 8,
   "id": "e72d3874",
   "metadata": {},
   "outputs": [
    {
     "name": "stdout",
     "output_type": "stream",
     "text": [
      "20210813 至 20210806的数据已经提取完毕\n",
      "Wall time: 1min 57s\n"
     ]
    }
   ],
   "source": [
    "%%time\n",
    "data_all = pd.DataFrame()\n",
    "\n",
    "\n",
    "dates = trade_datetime(end_date=end_date,period = day+1)\n",
    "\n",
    "drop_cols = ['code','con_code_x','in_date_x','out_date_x','con_code_y',\n",
    "         'in_date_y','out_date_y','open','high','low','pre_close','pct_chg',\n",
    "        'vol_y','amount','change']\n",
    "\n",
    "for count, i in enumerate(dates):\n",
    "\n",
    "    #数据\n",
    "    df_sh = pro.hk_hold(trade_date = i,exchange = 'SH')\n",
    "    df_sz = pro.hk_hold(trade_date = i,exchange = 'SZ')\n",
    "\n",
    "    # 股票量价数据\n",
    "    data = pd.concat([df_sh,df_sz])\n",
    "    df_price = pro.daily(trade_date=i)\n",
    "\n",
    "    data = data.merge(df_price, how='inner', on=['ts_code','trade_date'])\n",
    "    \n",
    "\n",
    "    # 数据合并\n",
    "    data = data.merge(df_first_detail, how='inner', left_on =\"ts_code\",right_on='con_code')\n",
    "    data = data.merge(df_second_detail, how='inner', left_on =\"ts_code\",right_on='con_code')\n",
    "\n",
    "    # 数据清洗\n",
    "    data = data.drop(drop_cols,axis=1)\n",
    "\n",
    "    data_all = pd.concat([data_all,data])   \n",
    "    \n",
    "    if count%10 == 0:\n",
    "        time.sleep(60)\n",
    "\n",
    "print(f\"{data_all['trade_date'].iloc[0]} 至 {data_all['trade_date'].iloc[-1]}的数据已经提取完毕\")\n",
    "\n",
    "data = data_all"
   ]
  },
  {
   "cell_type": "code",
   "execution_count": 9,
   "id": "533ab002",
   "metadata": {},
   "outputs": [
    {
     "name": "stdout",
     "output_type": "stream",
     "text": [
      "Wall time: 19.7 s\n"
     ]
    }
   ],
   "source": [
    "%%time\n",
    "data.columns = ['date','code','name','north_holding','ratio','exchange','close','sw_first','sw_second']\n",
    "\n",
    "shares = pd.unique(data['code'])\n",
    "\n",
    "data_net_hd = pd.DataFrame()\n",
    "for i in range(len(shares)):\n",
    "    share_table = data[data['code'] == shares[i]]\n",
    "    share_table = share_table.sort_values(by='date',ascending=True)\n",
    "    share_table['net_hd'] = share_table['north_holding'].diff()\n",
    "    data_net_hd = pd.concat([data_net_hd,share_table])\n",
    "\n",
    "\n",
    "data_net_hd['net_cf'] = data_net_hd['net_hd']* data_net_hd['close']\n",
    "\n",
    "# 去除NaN值\n",
    "data = data_net_hd.dropna()"
   ]
  },
  {
   "cell_type": "code",
   "execution_count": 10,
   "id": "39793510",
   "metadata": {},
   "outputs": [
    {
     "name": "stdout",
     "output_type": "stream",
     "text": [
      "500\n",
      "1000\n",
      "1500\n",
      "2000\n",
      "Wall time: 6min 13s\n"
     ]
    }
   ],
   "source": [
    "%%time\n",
    "# 创建一个全日期的空序列\n",
    "share_pivot = pd.DataFrame(pd.unique(data['date']), columns={'date'})\n",
    "\n",
    "shares = pd.unique(data['code'])\n",
    "\n",
    "for share in shares:\n",
    "    share_net_cf = data[data['code'] == share][['date','net_cf']].sort_values(by = 'date',ascending=True)\n",
    "\n",
    "    share_net_cf = share_net_cf.rename(columns={'net_cf': share})\n",
    "\n",
    "    share_pivot = share_pivot.merge(share_net_cf,how = 'outer',on = 'date')\n",
    "    \n",
    "# recording\n",
    "    if share_pivot.shape[1] % 500 == 0:\n",
    "        print(share_pivot.shape[1])"
   ]
  },
  {
   "cell_type": "code",
   "execution_count": 11,
   "id": "34d8f94c",
   "metadata": {},
   "outputs": [],
   "source": [
    "share_pivot = share_pivot.fillna(0)\n",
    "\n",
    "# share_pivot = pivot_data(data,'code','date','net_cf')\n",
    "\n",
    "share_pivot['date'] = pd.to_datetime(share_pivot['date'],format= \"%Y%m%d\")\n",
    "\n",
    "share_pivot =  share_pivot.set_index('date',drop = True)"
   ]
  },
  {
   "cell_type": "code",
   "execution_count": 12,
   "id": "8d42dbcc",
   "metadata": {},
   "outputs": [],
   "source": [
    "share_pivot_w = share_pivot.resample(\"W-FRI\").sum()"
   ]
  },
  {
   "cell_type": "code",
   "execution_count": 13,
   "id": "f53ccd87",
   "metadata": {},
   "outputs": [],
   "source": [
    "sw_first = pivot_data(data,'sw_first','date','net_cf')\n",
    "\n",
    "sw_first['date'] = pd.to_datetime(sw_first['date'],format='%Y%m%d')\n",
    "sw_first = sw_first.set_index('date',drop=True)"
   ]
  },
  {
   "cell_type": "code",
   "execution_count": 14,
   "id": "e193f690",
   "metadata": {},
   "outputs": [],
   "source": [
    "sw_first_w = sw_first.resample(\"W-FRI\").sum()"
   ]
  },
  {
   "cell_type": "markdown",
   "id": "517157a9",
   "metadata": {},
   "source": [
    "## 筛选行业"
   ]
  },
  {
   "cell_type": "code",
   "execution_count": 15,
   "id": "d52605d0",
   "metadata": {},
   "outputs": [],
   "source": [
    "industry_code_w = find_top(top_industry,sw_first_w)"
   ]
  },
  {
   "cell_type": "markdown",
   "id": "c89fa804",
   "metadata": {},
   "source": [
    "## 筛选股票"
   ]
  },
  {
   "cell_type": "code",
   "execution_count": 16,
   "id": "4c986179",
   "metadata": {},
   "outputs": [
    {
     "name": "stdout",
     "output_type": "stream",
     "text": [
      "0\n"
     ]
    }
   ],
   "source": [
    "share_code = pd.DataFrame()\n",
    "\n",
    "for each_day in range(industry_code_w.shape[1]):\n",
    "\n",
    "    share_code_w = pd.DataFrame()\n",
    "\n",
    "    for each_industry in industry_code_w.iloc[:,each_day]:\n",
    "\n",
    "        #     获取分类的成份股\n",
    "        industry_share = pd.unique(data[data['sw_first'] == each_industry]['code'])\n",
    "\n",
    "        #     每个行业按照现金流净流入选出top n个股票\n",
    "        share = share_pivot_w.loc[industry_code_w.columns[each_day],industry_share].sort_values(ascending = False).index[:top_share]\n",
    "\n",
    "        share = pd.DataFrame(share,columns=[industry_code_w.columns[each_day]])\n",
    "\n",
    "        \n",
    "        share_code_w = pd.concat([share_code_w,share],axis = 0)\n",
    "    share_code = pd.concat([share_code,share_code_w],axis = 1)\n",
    "    if each_day % 20 == 0:\n",
    "        print(each_day)"
   ]
  },
  {
   "cell_type": "code",
   "execution_count": 17,
   "id": "6fd860c8",
   "metadata": {},
   "outputs": [],
   "source": [
    "share_code = share_code.reset_index(drop=False)"
   ]
  },
  {
   "cell_type": "code",
   "execution_count": 18,
   "id": "6b657ce7",
   "metadata": {},
   "outputs": [],
   "source": [
    "result = pd.DataFrame()\n",
    "\n",
    "# 记录rand和股票code\n",
    "result['rank'] = share_code.iloc[:,0]\n",
    "result['code'] = share_code.iloc[:,1]\n",
    "\n",
    "share_name = data[['code','name']]\n",
    "\n",
    "# 合并申万行业、股票名称\n",
    "result = result.merge(data[['code','name']].drop_duplicates(),how='left',left_on='code',right_on='code')\n",
    "result = result.merge(df_first_detail,how='left',left_on='code',right_on='con_code')\n",
    "result = result.merge(df_second_detail,how='left',left_on='code',right_on='con_code')\n",
    "\n",
    "share_name = data[['code','name']]\n",
    "\n",
    "result = result.iloc[:,[0,1,2,3,7]]\n",
    "\n",
    "result.columns = ['rank','code','name','sw_first_code','sw_second_code']\n",
    "\n",
    "# 补充申万行业名称\n",
    "sw_classify_first = pro.index_classify(level='L1', src='SW')\n",
    "sw_classify_second = pro.index_classify(level='L2', src='SW')\n",
    "\n",
    "result = result.merge(sw_classify_first[['index_code','industry_name']],how='left',left_on='sw_first_code',right_on='index_code')\n",
    "result = result.merge(sw_classify_second[['index_code','industry_name']],how='left',left_on='sw_second_code',right_on='index_code')\n",
    "result = result.drop(['sw_first_code','sw_second_code'],axis = 1)\n",
    "\n",
    "result = result.rename(columns={'index_code_x': 'sw_first_code', 'industry_name_x': 'sw_first','index_code_y':'sw_second_code','industry_name_y':'sw_second'})"
   ]
  },
  {
   "cell_type": "markdown",
   "id": "bf85c6cd",
   "metadata": {},
   "source": [
    "# 可供分析的表格"
   ]
  },
  {
   "cell_type": "code",
   "execution_count": 1,
   "id": "d58d3143",
   "metadata": {},
   "outputs": [],
   "source": [
    "# result.to_csv('资金流向股票.csv',encoding='utf_8_sig')\n",
    "# result"
   ]
  },
  {
   "cell_type": "markdown",
   "id": "4067dff7",
   "metadata": {},
   "source": [
    "# 筛选后的的股票"
   ]
  },
  {
   "cell_type": "code",
   "execution_count": 20,
   "id": "c3494ae9",
   "metadata": {},
   "outputs": [
    {
     "data": {
      "text/html": [
       "<div>\n",
       "<style scoped>\n",
       "    .dataframe tbody tr th:only-of-type {\n",
       "        vertical-align: middle;\n",
       "    }\n",
       "\n",
       "    .dataframe tbody tr th {\n",
       "        vertical-align: top;\n",
       "    }\n",
       "\n",
       "    .dataframe thead th {\n",
       "        text-align: right;\n",
       "    }\n",
       "</style>\n",
       "<table border=\"1\" class=\"dataframe\">\n",
       "  <thead>\n",
       "    <tr style=\"text-align: right;\">\n",
       "      <th></th>\n",
       "      <th>rank</th>\n",
       "      <th>code</th>\n",
       "      <th>name</th>\n",
       "      <th>sw_first_code</th>\n",
       "      <th>sw_first</th>\n",
       "      <th>sw_second_code</th>\n",
       "      <th>sw_second</th>\n",
       "    </tr>\n",
       "  </thead>\n",
       "  <tbody>\n",
       "    <tr>\n",
       "      <th>0</th>\n",
       "      <td>0</td>\n",
       "      <td>600031.SH</td>\n",
       "      <td>三一重工</td>\n",
       "      <td>801890.SI</td>\n",
       "      <td>机械设备</td>\n",
       "      <td>801074.SI</td>\n",
       "      <td>专用设备</td>\n",
       "    </tr>\n",
       "    <tr>\n",
       "      <th>5</th>\n",
       "      <td>0</td>\n",
       "      <td>002050.SZ</td>\n",
       "      <td>三花智控</td>\n",
       "      <td>801110.SI</td>\n",
       "      <td>家用电器</td>\n",
       "      <td>801111.SI</td>\n",
       "      <td>白色家电</td>\n",
       "    </tr>\n",
       "    <tr>\n",
       "      <th>19</th>\n",
       "      <td>4</td>\n",
       "      <td>002610.SZ</td>\n",
       "      <td>愛康科技</td>\n",
       "      <td>801160.SI</td>\n",
       "      <td>公用事业</td>\n",
       "      <td>801161.SI</td>\n",
       "      <td>电力</td>\n",
       "    </tr>\n",
       "    <tr>\n",
       "      <th>20</th>\n",
       "      <td>0</td>\n",
       "      <td>603259.SH</td>\n",
       "      <td>藥明康得</td>\n",
       "      <td>801150.SI</td>\n",
       "      <td>医药生物</td>\n",
       "      <td>801156.SI</td>\n",
       "      <td>医疗服务</td>\n",
       "    </tr>\n",
       "    <tr>\n",
       "      <th>18</th>\n",
       "      <td>3</td>\n",
       "      <td>600452.SH</td>\n",
       "      <td>涪陵電力</td>\n",
       "      <td>801160.SI</td>\n",
       "      <td>公用事业</td>\n",
       "      <td>801161.SI</td>\n",
       "      <td>电力</td>\n",
       "    </tr>\n",
       "    <tr>\n",
       "      <th>22</th>\n",
       "      <td>2</td>\n",
       "      <td>300015.SZ</td>\n",
       "      <td>愛爾眼科</td>\n",
       "      <td>801150.SI</td>\n",
       "      <td>医药生物</td>\n",
       "      <td>801156.SI</td>\n",
       "      <td>医疗服务</td>\n",
       "    </tr>\n",
       "    <tr>\n",
       "      <th>17</th>\n",
       "      <td>2</td>\n",
       "      <td>600025.SH</td>\n",
       "      <td>華能水電</td>\n",
       "      <td>801160.SI</td>\n",
       "      <td>公用事业</td>\n",
       "      <td>801161.SI</td>\n",
       "      <td>电力</td>\n",
       "    </tr>\n",
       "    <tr>\n",
       "      <th>24</th>\n",
       "      <td>4</td>\n",
       "      <td>300142.SZ</td>\n",
       "      <td>沃森生物</td>\n",
       "      <td>801150.SI</td>\n",
       "      <td>医药生物</td>\n",
       "      <td>801152.SI</td>\n",
       "      <td>生物制品</td>\n",
       "    </tr>\n",
       "    <tr>\n",
       "      <th>21</th>\n",
       "      <td>1</td>\n",
       "      <td>300760.SZ</td>\n",
       "      <td>邁瑞醫療</td>\n",
       "      <td>801150.SI</td>\n",
       "      <td>医药生物</td>\n",
       "      <td>801153.SI</td>\n",
       "      <td>医疗器械</td>\n",
       "    </tr>\n",
       "    <tr>\n",
       "      <th>12</th>\n",
       "      <td>2</td>\n",
       "      <td>000898.SZ</td>\n",
       "      <td>鞍鋼股份</td>\n",
       "      <td>801040.SI</td>\n",
       "      <td>钢铁</td>\n",
       "      <td>801041.SI</td>\n",
       "      <td>钢铁</td>\n",
       "    </tr>\n",
       "  </tbody>\n",
       "</table>\n",
       "</div>"
      ],
      "text/plain": [
       "    rank       code  name sw_first_code sw_first sw_second_code sw_second\n",
       "0      0  600031.SH  三一重工     801890.SI     机械设备      801074.SI      专用设备\n",
       "5      0  002050.SZ  三花智控     801110.SI     家用电器      801111.SI      白色家电\n",
       "19     4  002610.SZ  愛康科技     801160.SI     公用事业      801161.SI        电力\n",
       "20     0  603259.SH  藥明康得     801150.SI     医药生物      801156.SI      医疗服务\n",
       "18     3  600452.SH  涪陵電力     801160.SI     公用事业      801161.SI        电力\n",
       "22     2  300015.SZ  愛爾眼科     801150.SI     医药生物      801156.SI      医疗服务\n",
       "17     2  600025.SH  華能水電     801160.SI     公用事业      801161.SI        电力\n",
       "24     4  300142.SZ  沃森生物     801150.SI     医药生物      801152.SI      生物制品\n",
       "21     1  300760.SZ  邁瑞醫療     801150.SI     医药生物      801153.SI      医疗器械\n",
       "12     2  000898.SZ  鞍鋼股份     801040.SI       钢铁      801041.SI        钢铁"
      ]
     },
     "execution_count": 20,
     "metadata": {},
     "output_type": "execute_result"
    }
   ],
   "source": [
    "selected_share = [0,5,19, 20, 18, 22, 17, 24, 21, 12]\n",
    "result.iloc[selected_share,:].to_csv('选出的股票.csv',encoding='utf_8_sig')\n",
    "result.iloc[selected_share,:]"
   ]
  },
  {
   "cell_type": "markdown",
   "id": "eca89e23",
   "metadata": {},
   "source": [
    "# 输入指数收益率"
   ]
  },
  {
   "cell_type": "code",
   "execution_count": 1,
   "id": "6994e4cc",
   "metadata": {},
   "outputs": [
    {
     "ename": "NameError",
     "evalue": "name 'pro' is not defined",
     "output_type": "error",
     "traceback": [
      "\u001b[1;31m---------------------------------------------------------------------------\u001b[0m",
      "\u001b[1;31mNameError\u001b[0m                                 Traceback (most recent call last)",
      "\u001b[1;32m<ipython-input-1-84779a24d3d0>\u001b[0m in \u001b[0;36m<module>\u001b[1;34m\u001b[0m\n\u001b[1;32m----> 1\u001b[1;33m \u001b[0mdf\u001b[0m \u001b[1;33m=\u001b[0m \u001b[0mpro\u001b[0m\u001b[1;33m.\u001b[0m\u001b[0mindex_weekly\u001b[0m\u001b[1;33m(\u001b[0m\u001b[0mts_code\u001b[0m\u001b[1;33m=\u001b[0m\u001b[1;34m'000300.SH'\u001b[0m\u001b[1;33m,\u001b[0m \u001b[0mstart_date\u001b[0m\u001b[1;33m=\u001b[0m\u001b[1;34m'20180101'\u001b[0m\u001b[1;33m,\u001b[0m \u001b[0mend_date\u001b[0m\u001b[1;33m=\u001b[0m\u001b[1;34m'20190329'\u001b[0m\u001b[1;33m,\u001b[0m \u001b[0mfields\u001b[0m\u001b[1;33m=\u001b[0m\u001b[1;34m'ts_code,trade_date,open,high,low,close,vol,amount'\u001b[0m\u001b[1;33m)\u001b[0m\u001b[1;33m\u001b[0m\u001b[1;33m\u001b[0m\u001b[0m\n\u001b[0m",
      "\u001b[1;31mNameError\u001b[0m: name 'pro' is not defined"
     ]
    }
   ],
   "source": [
    "df = pro.index_weekly(ts_code='000300.SH', start_date='20180101', end_date='20190329', fields='ts_code,trade_date,open,high,low,close,vol,amount')"
   ]
  },
  {
   "cell_type": "code",
   "execution_count": null,
   "id": "742ffebe",
   "metadata": {},
   "outputs": [],
   "source": []
  }
 ],
 "metadata": {
  "kernelspec": {
   "display_name": "Python 3",
   "language": "python",
   "name": "python3"
  },
  "language_info": {
   "codemirror_mode": {
    "name": "ipython",
    "version": 3
   },
   "file_extension": ".py",
   "mimetype": "text/x-python",
   "name": "python",
   "nbconvert_exporter": "python",
   "pygments_lexer": "ipython3",
   "version": "3.8.8"
  },
  "toc": {
   "base_numbering": 1,
   "nav_menu": {},
   "number_sections": true,
   "sideBar": true,
   "skip_h1_title": false,
   "title_cell": "Table of Contents",
   "title_sidebar": "Contents",
   "toc_cell": false,
   "toc_position": {
    "height": "calc(100% - 180px)",
    "left": "10px",
    "top": "150px",
    "width": "301.634px"
   },
   "toc_section_display": true,
   "toc_window_display": true
  }
 },
 "nbformat": 4,
 "nbformat_minor": 5
}
