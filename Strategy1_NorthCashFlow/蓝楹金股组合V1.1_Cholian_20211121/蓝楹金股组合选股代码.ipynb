{
 "cells": [
  {
   "cell_type": "markdown",
   "id": "a3c91878",
   "metadata": {},
   "source": [
    "# Introduction"
   ]
  },
  {
   "cell_type": "markdown",
   "id": "57b66142",
   "metadata": {},
   "source": [
    "作者：Cholian\n",
    "\n",
    "时间：20210823\n",
    "\n",
    "所属解释权：蓝楹会研究部（量化出品）"
   ]
  },
  {
   "cell_type": "markdown",
   "id": "0d4715b0",
   "metadata": {},
   "source": [
    "logs:\n",
    "    \n",
    "    --**20211121 Cholian\n",
    "\n",
    "tushare changed the industry code from \"SW\" to \"SW2021\", done"
   ]
  },
  {
   "cell_type": "markdown",
   "id": "85a7e574",
   "metadata": {},
   "source": [
    "# Package"
   ]
  },
  {
   "cell_type": "code",
   "execution_count": 1,
   "id": "63e1ec47",
   "metadata": {},
   "outputs": [],
   "source": [
    "import tushare as ts\n",
    "import pandas as pd\n",
    "# import matplotlib.pyplot as plt\n",
    "# import datetime\n",
    "import numpy as np\n",
    "import time\n",
    "import datetime"
   ]
  },
  {
   "cell_type": "markdown",
   "id": "12e23398",
   "metadata": {},
   "source": [
    "如果报错“no packge called tushare”，请咨询技术部，或者联系cholian，WeChat: cholian0518"
   ]
  },
  {
   "cell_type": "markdown",
   "id": "6ff9773f",
   "metadata": {},
   "source": [
    "这里的API接口请联系技术部询问tushare数据库API"
   ]
  },
  {
   "cell_type": "code",
   "execution_count": 2,
   "id": "36263be8",
   "metadata": {},
   "outputs": [],
   "source": [
    "# 这里填写一长串数据库api密钥，e.g: pro = ts.pro_api('asdasdjlasjdlkasjd123123213')\n",
    "pro = ts.pro_api('cb8a90fa4e956282996a0eb8674ed01af79dd27145f039febd4e69d5')"
   ]
  },
  {
   "cell_type": "markdown",
   "id": "1e8d9380",
   "metadata": {},
   "source": [
    "## 参数选取"
   ]
  },
  {
   "cell_type": "markdown",
   "id": "914f89f9",
   "metadata": {},
   "source": [
    "##### --------------------------------- <font color='red'>需要手动更新的地方 start </font>------------------------------------------------------"
   ]
  },
  {
   "cell_type": "markdown",
   "id": "74439426",
   "metadata": {},
   "source": [
    "### 日期参数 （每周更新）"
   ]
  },
  {
   "cell_type": "code",
   "execution_count": 3,
   "id": "6d90efad",
   "metadata": {},
   "outputs": [],
   "source": [
    "# 日期参数\n",
    "# 提取上周五股票的原因是因为，周一要计算净流入的话，就要和上周五进行对比，因此，需要额外的把上周五的也提取出来\n",
    "start_date =\"20211112\" # 上周五的日期\n",
    "end_date = \"20211119\" # 最新周五的日期"
   ]
  },
  {
   "cell_type": "markdown",
   "id": "1ea103cc",
   "metadata": {},
   "source": [
    "### 行业股票参数（可选）"
   ]
  },
  {
   "cell_type": "code",
   "execution_count": 4,
   "id": "75bf3ee4",
   "metadata": {},
   "outputs": [],
   "source": [
    "# 选取前几名行业 （默认为5）\n",
    "top_industry = 5\n",
    "\n",
    "# 选取前几名的股票\n",
    "top_share = 5"
   ]
  },
  {
   "cell_type": "markdown",
   "id": "f0e6d463",
   "metadata": {},
   "source": [
    "##### ---------------------------------<font color='blue'>需要手动更新的地方 end </font> ------------------------------------------------------"
   ]
  },
  {
   "cell_type": "markdown",
   "id": "2e1c9da5",
   "metadata": {},
   "source": [
    "## 准备函数"
   ]
  },
  {
   "cell_type": "code",
   "execution_count": 5,
   "id": "73175aec",
   "metadata": {},
   "outputs": [],
   "source": [
    "day = (pd.to_datetime(end_date)- pd.to_datetime(start_date)).days"
   ]
  },
  {
   "cell_type": "code",
   "execution_count": 6,
   "id": "ef67a48c",
   "metadata": {},
   "outputs": [],
   "source": [
    "def sw_indurstry( level = \"L1\",pro = None):\n",
    "    #获取申万一级行业列表\n",
    "    df_first = pro.index_classify(level=level, src='SW2021')\n",
    "    df_first_detail = pd.DataFrame()\n",
    "    \n",
    "    for i in df_first['index_code']:\n",
    "\n",
    "        a = pro.index_member(index_code=i)\n",
    "        \n",
    "        df_first_detail = pd.concat([a,df_first_detail])\n",
    "        \n",
    "    return df_first_detail\n",
    "\n",
    "def trade_datetime(end_date='20210714',period = 7):\n",
    "    \n",
    "    end_date = pd.to_datetime(end_date)\n",
    "    dates = end_date - pd.to_timedelta(np.arange(period), unit = 'D')\n",
    "    dates = dates.strftime('%Y%m%d')\n",
    "\n",
    "    return dates\n",
    "\n",
    "\n",
    "def pivot_data(data,col_pivot,dates_pivot,value):\n",
    "    dates = pd.unique(data[dates_pivot])\n",
    "    result = pd.DataFrame(columns=pd.unique(data[col_pivot]))\n",
    "    result['date'] = ''\n",
    "    \n",
    "    for i in dates:\n",
    "\n",
    "        daily = data[data[dates_pivot] == i]\n",
    "        data_pivot = daily.groupby(col_pivot)[value].sum()\n",
    "        \n",
    "        a = pd.DataFrame(data_pivot).T\n",
    "        a['date'] = i\n",
    "        result = pd.concat([result,a])\n",
    "    return result\n",
    "\n",
    "def find_top(n,data):\n",
    "    top_list = pd.DataFrame()\n",
    "    for i,day in enumerate(data.index):\n",
    "        top_data = data.iloc[i].sort_values(ascending = False).head(n).index\n",
    "        top_list[day] = top_data\n",
    "        \n",
    "    return top_list"
   ]
  },
  {
   "cell_type": "code",
   "execution_count": 7,
   "id": "6e1cdb7c",
   "metadata": {},
   "outputs": [
    {
     "name": "stdout",
     "output_type": "stream",
     "text": [
      "CPU times: user 1.64 s, sys: 274 ms, total: 1.91 s\n",
      "Wall time: 2min 2s\n"
     ]
    }
   ],
   "source": [
    "%%time\n",
    "# 申万行业数据\n",
    "\n",
    "df_first_detail = sw_indurstry( level = \"L1\",pro = pro)\n",
    "df_second_detail = sw_indurstry( level = \"L2\",pro = pro)"
   ]
  },
  {
   "cell_type": "code",
   "execution_count": 8,
   "id": "e72d3874",
   "metadata": {},
   "outputs": [
    {
     "name": "stdout",
     "output_type": "stream",
     "text": [
      "20211119 至 20211112的数据已经提取完毕\n",
      "CPU times: user 723 ms, sys: 91.7 ms, total: 814 ms\n",
      "Wall time: 1min 31s\n"
     ]
    }
   ],
   "source": [
    "%%time\n",
    "data_all = pd.DataFrame()\n",
    "\n",
    "\n",
    "dates = trade_datetime(end_date=end_date,period = day+1)\n",
    "\n",
    "drop_cols = ['code','con_code_x','in_date_x','out_date_x','con_code_y',\n",
    "         'in_date_y','out_date_y','open','high','low','pre_close','pct_chg',\n",
    "        'vol_y','amount','change']\n",
    "\n",
    "for count, i in enumerate(dates):\n",
    "\n",
    "    #数据\n",
    "    df_sh = pro.hk_hold(trade_date = i,exchange = 'SH')\n",
    "    df_sz = pro.hk_hold(trade_date = i,exchange = 'SZ')\n",
    "\n",
    "    # 股票量价数据\n",
    "    data = pd.concat([df_sh,df_sz])\n",
    "    df_price = pro.daily(trade_date=i)\n",
    "\n",
    "    data = data.merge(df_price, how='inner', on=['ts_code','trade_date'])\n",
    "    \n",
    "\n",
    "    # 数据合并\n",
    "    data = data.merge(df_first_detail, how='inner', left_on =\"ts_code\",right_on='con_code')\n",
    "    data = data.merge(df_second_detail, how='inner', left_on =\"ts_code\",right_on='con_code')\n",
    "\n",
    "    # 数据清洗\n",
    "    data = data.drop(drop_cols,axis=1)\n",
    "\n",
    "    data_all = pd.concat([data_all,data])   \n",
    "    \n",
    "    if count%10 == 0:\n",
    "        time.sleep(60)\n",
    "\n",
    "print(f\"{data_all['trade_date'].iloc[0]} 至 {data_all['trade_date'].iloc[-1]}的数据已经提取完毕\")\n",
    "\n",
    "data = data_all"
   ]
  },
  {
   "cell_type": "code",
   "execution_count": 9,
   "id": "533ab002",
   "metadata": {},
   "outputs": [
    {
     "name": "stdout",
     "output_type": "stream",
     "text": [
      "CPU times: user 2.95 s, sys: 25.5 ms, total: 2.98 s\n",
      "Wall time: 2.98 s\n"
     ]
    }
   ],
   "source": [
    "%%time\n",
    "data.columns = ['date','code','name','north_holding','ratio','exchange','close','sw_first','sw_second']\n",
    "\n",
    "shares = pd.unique(data['code'])\n",
    "\n",
    "data_net_hd = pd.DataFrame()\n",
    "for i in range(len(shares)):\n",
    "    share_table = data[data['code'] == shares[i]]\n",
    "    share_table = share_table.sort_values(by='date',ascending=True)\n",
    "    share_table['net_hd'] = share_table['north_holding'].diff()\n",
    "    data_net_hd = pd.concat([data_net_hd,share_table])\n",
    "\n",
    "\n",
    "data_net_hd['net_cf'] = data_net_hd['net_hd']* data_net_hd['close']\n",
    "\n",
    "# 去除NaN值\n",
    "data = data_net_hd.dropna()"
   ]
  },
  {
   "cell_type": "code",
   "execution_count": 10,
   "id": "39793510",
   "metadata": {},
   "outputs": [
    {
     "name": "stdout",
     "output_type": "stream",
     "text": [
      "500\n",
      "1000\n",
      "1500\n",
      "CPU times: user 1min 2s, sys: 352 ms, total: 1min 2s\n",
      "Wall time: 1min 2s\n"
     ]
    }
   ],
   "source": [
    "%%time\n",
    "# 创建一个全日期的空序列\n",
    "share_pivot = pd.DataFrame(pd.unique(data['date']), columns={'date'})\n",
    "\n",
    "shares = pd.unique(data['code'])\n",
    "\n",
    "for share in shares:\n",
    "    share_net_cf = data[data['code'] == share][['date','net_cf']].sort_values(by = 'date',ascending=True)\n",
    "\n",
    "    share_net_cf = share_net_cf.rename(columns={'net_cf': share})\n",
    "\n",
    "    share_pivot = share_pivot.merge(share_net_cf,how = 'outer',on = 'date')\n",
    "    \n",
    "# recording\n",
    "    if share_pivot.shape[1] % 500 == 0:\n",
    "        print(share_pivot.shape[1])"
   ]
  },
  {
   "cell_type": "code",
   "execution_count": 11,
   "id": "34d8f94c",
   "metadata": {},
   "outputs": [],
   "source": [
    "share_pivot = share_pivot.fillna(0)\n",
    "\n",
    "# share_pivot = pivot_data(data,'code','date','net_cf')\n",
    "\n",
    "share_pivot['date'] = pd.to_datetime(share_pivot['date'],format= \"%Y%m%d\")\n",
    "\n",
    "share_pivot =  share_pivot.set_index('date',drop = True)"
   ]
  },
  {
   "cell_type": "code",
   "execution_count": 12,
   "id": "8d42dbcc",
   "metadata": {},
   "outputs": [],
   "source": [
    "share_pivot_w = share_pivot.resample(\"W-FRI\").sum()"
   ]
  },
  {
   "cell_type": "code",
   "execution_count": 13,
   "id": "f53ccd87",
   "metadata": {},
   "outputs": [],
   "source": [
    "sw_first = pivot_data(data,'sw_first','date','net_cf')\n",
    "\n",
    "sw_first['date'] = pd.to_datetime(sw_first['date'],format='%Y%m%d')\n",
    "sw_first = sw_first.set_index('date',drop=True)"
   ]
  },
  {
   "cell_type": "code",
   "execution_count": 14,
   "id": "e193f690",
   "metadata": {},
   "outputs": [],
   "source": [
    "sw_first_w = sw_first.resample(\"W-FRI\").sum()"
   ]
  },
  {
   "cell_type": "markdown",
   "id": "517157a9",
   "metadata": {},
   "source": [
    "## 筛选行业"
   ]
  },
  {
   "cell_type": "code",
   "execution_count": 15,
   "id": "d52605d0",
   "metadata": {},
   "outputs": [],
   "source": [
    "industry_code_w = find_top(top_industry,sw_first_w)"
   ]
  },
  {
   "cell_type": "markdown",
   "id": "c89fa804",
   "metadata": {},
   "source": [
    "## 筛选股票"
   ]
  },
  {
   "cell_type": "code",
   "execution_count": 16,
   "id": "4c986179",
   "metadata": {},
   "outputs": [
    {
     "name": "stdout",
     "output_type": "stream",
     "text": [
      "0\n"
     ]
    }
   ],
   "source": [
    "share_code = pd.DataFrame()\n",
    "\n",
    "for each_day in range(industry_code_w.shape[1]):\n",
    "\n",
    "    share_code_w = pd.DataFrame()\n",
    "\n",
    "    for each_industry in industry_code_w.iloc[:,each_day]:\n",
    "\n",
    "        #     获取分类的成份股\n",
    "        industry_share = pd.unique(data[data['sw_first'] == each_industry]['code'])\n",
    "\n",
    "        #     每个行业按照现金流净流入选出top n个股票\n",
    "        share = share_pivot_w.loc[industry_code_w.columns[each_day],industry_share].sort_values(ascending = False).index[:top_share]\n",
    "\n",
    "        share = pd.DataFrame(share,columns=[industry_code_w.columns[each_day]])\n",
    "\n",
    "        \n",
    "        share_code_w = pd.concat([share_code_w,share],axis = 0)\n",
    "    share_code = pd.concat([share_code,share_code_w],axis = 1)\n",
    "    if each_day % 20 == 0:\n",
    "        print(each_day)"
   ]
  },
  {
   "cell_type": "code",
   "execution_count": 17,
   "id": "6fd860c8",
   "metadata": {},
   "outputs": [],
   "source": [
    "share_code = share_code.reset_index(drop=False)"
   ]
  },
  {
   "cell_type": "code",
   "execution_count": 18,
   "id": "6b657ce7",
   "metadata": {},
   "outputs": [],
   "source": [
    "result = pd.DataFrame()\n",
    "\n",
    "# 记录rand和股票code\n",
    "result['rank'] = share_code.iloc[:,0]\n",
    "result['code'] = share_code.iloc[:,1]\n",
    "\n",
    "share_name = data[['code','name']]\n",
    "\n",
    "# 合并申万行业、股票名称\n",
    "result = result.merge(data[['code','name']].drop_duplicates(),how='left',left_on='code',right_on='code')\n",
    "result = result.merge(df_first_detail,how='left',left_on='code',right_on='con_code')\n",
    "result = result.merge(df_second_detail,how='left',left_on='code',right_on='con_code')\n",
    "\n",
    "share_name = data[['code','name']]\n",
    "\n",
    "result = result.iloc[:,[0,1,2,3,7]]\n",
    "\n",
    "result.columns = ['rank','code','name','sw_first_code','sw_second_code']\n",
    "\n",
    "# 补充申万行业名称\n",
    "sw_classify_first = pro.index_classify(level='L1', src='SW2021')\n",
    "sw_classify_second = pro.index_classify(level='L2', src='SW2021')\n",
    "\n",
    "result = result.merge(sw_classify_first[['index_code','industry_name']],how='left',left_on='sw_first_code',right_on='index_code')\n",
    "result = result.merge(sw_classify_second[['index_code','industry_name']],how='left',left_on='sw_second_code',right_on='index_code')\n",
    "result = result.drop(['sw_first_code','sw_second_code'],axis = 1)\n",
    "\n",
    "result = result.rename(columns={'index_code_x': 'sw_first_code', 'industry_name_x': 'sw_first','index_code_y':'sw_second_code','industry_name_y':'sw_second'})"
   ]
  },
  {
   "cell_type": "code",
   "execution_count": 19,
   "id": "d58d3143",
   "metadata": {},
   "outputs": [],
   "source": [
    "# result.to_csv('资金流向股票.csv',encoding='utf_8_sig')\n",
    "# result"
   ]
  },
  {
   "cell_type": "markdown",
   "id": "4067dff7",
   "metadata": {},
   "source": [
    "# 输出股票代码"
   ]
  },
  {
   "cell_type": "code",
   "execution_count": 22,
   "id": "7d0b481c",
   "metadata": {},
   "outputs": [],
   "source": [
    "last_week_data = pd.read_csv('输出\\股票代码.csv',index_col=0)"
   ]
  },
  {
   "cell_type": "code",
   "execution_count": 23,
   "id": "c3494ae9",
   "metadata": {
    "scrolled": true
   },
   "outputs": [
    {
     "data": {
      "text/html": [
       "<div>\n",
       "<style scoped>\n",
       "    .dataframe tbody tr th:only-of-type {\n",
       "        vertical-align: middle;\n",
       "    }\n",
       "\n",
       "    .dataframe tbody tr th {\n",
       "        vertical-align: top;\n",
       "    }\n",
       "\n",
       "    .dataframe thead th {\n",
       "        text-align: right;\n",
       "    }\n",
       "</style>\n",
       "<table border=\"1\" class=\"dataframe\">\n",
       "  <thead>\n",
       "    <tr style=\"text-align: right;\">\n",
       "      <th></th>\n",
       "      <th>rank</th>\n",
       "      <th>code</th>\n",
       "      <th>name</th>\n",
       "      <th>sw_first_code</th>\n",
       "      <th>sw_first</th>\n",
       "      <th>sw_second_code</th>\n",
       "      <th>sw_second</th>\n",
       "      <th>date</th>\n",
       "    </tr>\n",
       "  </thead>\n",
       "  <tbody>\n",
       "    <tr>\n",
       "      <th>0</th>\n",
       "      <td>0</td>\n",
       "      <td>002241.SZ</td>\n",
       "      <td>歌爾股份</td>\n",
       "      <td>801080.SI</td>\n",
       "      <td>电子</td>\n",
       "      <td>801085.SI</td>\n",
       "      <td>消费电子</td>\n",
       "      <td>20211119</td>\n",
       "    </tr>\n",
       "    <tr>\n",
       "      <th>5</th>\n",
       "      <td>0</td>\n",
       "      <td>300750.SZ</td>\n",
       "      <td>寧德時代</td>\n",
       "      <td>801730.SI</td>\n",
       "      <td>电力设备</td>\n",
       "      <td>801733.SI</td>\n",
       "      <td>其他电源设备Ⅱ</td>\n",
       "      <td>20211119</td>\n",
       "    </tr>\n",
       "    <tr>\n",
       "      <th>19</th>\n",
       "      <td>4</td>\n",
       "      <td>002812.SZ</td>\n",
       "      <td>恩捷股份</td>\n",
       "      <td>801030.SI</td>\n",
       "      <td>基础化工</td>\n",
       "      <td>801034.SI</td>\n",
       "      <td>化学制品</td>\n",
       "      <td>20211119</td>\n",
       "    </tr>\n",
       "    <tr>\n",
       "      <th>20</th>\n",
       "      <td>0</td>\n",
       "      <td>002352.SZ</td>\n",
       "      <td>順豐控股</td>\n",
       "      <td>801170.SI</td>\n",
       "      <td>交通运输</td>\n",
       "      <td>801178.SI</td>\n",
       "      <td>物流</td>\n",
       "      <td>20211119</td>\n",
       "    </tr>\n",
       "    <tr>\n",
       "      <th>18</th>\n",
       "      <td>3</td>\n",
       "      <td>600141.SH</td>\n",
       "      <td>興發集團</td>\n",
       "      <td>801030.SI</td>\n",
       "      <td>基础化工</td>\n",
       "      <td>801034.SI</td>\n",
       "      <td>化学制品</td>\n",
       "      <td>20211119</td>\n",
       "    </tr>\n",
       "    <tr>\n",
       "      <th>22</th>\n",
       "      <td>2</td>\n",
       "      <td>600233.SH</td>\n",
       "      <td>圓通速遞</td>\n",
       "      <td>801170.SI</td>\n",
       "      <td>交通运输</td>\n",
       "      <td>801178.SI</td>\n",
       "      <td>物流</td>\n",
       "      <td>20211119</td>\n",
       "    </tr>\n",
       "    <tr>\n",
       "      <th>17</th>\n",
       "      <td>2</td>\n",
       "      <td>002326.SZ</td>\n",
       "      <td>永太科技</td>\n",
       "      <td>801030.SI</td>\n",
       "      <td>基础化工</td>\n",
       "      <td>801034.SI</td>\n",
       "      <td>化学制品</td>\n",
       "      <td>20211119</td>\n",
       "    </tr>\n",
       "    <tr>\n",
       "      <th>24</th>\n",
       "      <td>4</td>\n",
       "      <td>600704.SH</td>\n",
       "      <td>物產中大</td>\n",
       "      <td>801170.SI</td>\n",
       "      <td>交通运输</td>\n",
       "      <td>801178.SI</td>\n",
       "      <td>物流</td>\n",
       "      <td>20211119</td>\n",
       "    </tr>\n",
       "    <tr>\n",
       "      <th>21</th>\n",
       "      <td>1</td>\n",
       "      <td>002010.SZ</td>\n",
       "      <td>傳化智聯</td>\n",
       "      <td>801170.SI</td>\n",
       "      <td>交通运输</td>\n",
       "      <td>801178.SI</td>\n",
       "      <td>物流</td>\n",
       "      <td>20211119</td>\n",
       "    </tr>\n",
       "    <tr>\n",
       "      <th>12</th>\n",
       "      <td>2</td>\n",
       "      <td>600436.SH</td>\n",
       "      <td>PIEN TZE HUAN-A</td>\n",
       "      <td>801150.SI</td>\n",
       "      <td>医药生物</td>\n",
       "      <td>801155.SI</td>\n",
       "      <td>中药Ⅱ</td>\n",
       "      <td>20211119</td>\n",
       "    </tr>\n",
       "  </tbody>\n",
       "</table>\n",
       "</div>"
      ],
      "text/plain": [
       "    rank       code             name sw_first_code sw_first sw_second_code  \\\n",
       "0      0  002241.SZ             歌爾股份     801080.SI       电子      801085.SI   \n",
       "5      0  300750.SZ             寧德時代     801730.SI     电力设备      801733.SI   \n",
       "19     4  002812.SZ             恩捷股份     801030.SI     基础化工      801034.SI   \n",
       "20     0  002352.SZ             順豐控股     801170.SI     交通运输      801178.SI   \n",
       "18     3  600141.SH             興發集團     801030.SI     基础化工      801034.SI   \n",
       "22     2  600233.SH             圓通速遞     801170.SI     交通运输      801178.SI   \n",
       "17     2  002326.SZ             永太科技     801030.SI     基础化工      801034.SI   \n",
       "24     4  600704.SH             物產中大     801170.SI     交通运输      801178.SI   \n",
       "21     1  002010.SZ             傳化智聯     801170.SI     交通运输      801178.SI   \n",
       "12     2  600436.SH  PIEN TZE HUAN-A     801150.SI     医药生物      801155.SI   \n",
       "\n",
       "   sw_second      date  \n",
       "0       消费电子  20211119  \n",
       "5    其他电源设备Ⅱ  20211119  \n",
       "19      化学制品  20211119  \n",
       "20        物流  20211119  \n",
       "18      化学制品  20211119  \n",
       "22        物流  20211119  \n",
       "17      化学制品  20211119  \n",
       "24        物流  20211119  \n",
       "21        物流  20211119  \n",
       "12       中药Ⅱ  20211119  "
      ]
     },
     "execution_count": 23,
     "metadata": {},
     "output_type": "execute_result"
    }
   ],
   "source": [
    "selected_share = [0,5,19, 20, 18, 22, 17, 24, 21, 12]\n",
    "result['date'] = end_date\n",
    "result.iloc[selected_share,:].to_csv('输出\\股票代码.csv',encoding='utf_8_sig')\n",
    "result.iloc[selected_share,:]"
   ]
  },
  {
   "cell_type": "markdown",
   "id": "693fa9c4",
   "metadata": {},
   "source": [
    "# 更新上周股票收益率"
   ]
  },
  {
   "cell_type": "code",
   "execution_count": 25,
   "id": "5a86f7ca",
   "metadata": {},
   "outputs": [],
   "source": [
    "last_week_data"
   ]
  },
  {
   "cell_type": "code",
   "execution_count": null,
   "id": "ca4bf1aa",
   "metadata": {},
   "outputs": [],
   "source": [
    "last_week_return = pd.DataFrame()\n",
    "for code in last_week_data['code']:\n",
    "\n",
    "    df = pro.weekly(ts_code=code, trade_date = end_date)\n",
    "\n",
    "    last_week_return = pd.concat([last_week_return,df])"
   ]
  },
  {
   "cell_type": "code",
   "execution_count": null,
   "id": "0f7a4043",
   "metadata": {},
   "outputs": [],
   "source": [
    "last_week_return.index = last_week_data.index"
   ]
  },
  {
   "cell_type": "code",
   "execution_count": null,
   "id": "6d4a6002",
   "metadata": {},
   "outputs": [],
   "source": [
    "last_week_return[['ts_code','trade_date','pct_chg']].to_csv('输出\\组合收益率.csv')"
   ]
  },
  {
   "cell_type": "markdown",
   "id": "af660517",
   "metadata": {},
   "source": [
    "# 更新HS300指数收益率"
   ]
  },
  {
   "cell_type": "code",
   "execution_count": null,
   "id": "8a5aa5a7",
   "metadata": {},
   "outputs": [],
   "source": [
    "index_return = pro.index_weekly(ts_code='000300.SH', trade_date = end_date)"
   ]
  },
  {
   "cell_type": "code",
   "execution_count": null,
   "id": "e56f91b3",
   "metadata": {},
   "outputs": [],
   "source": [
    "index_return['trade_date'] =  pd.to_datetime(index_return['trade_date'])"
   ]
  },
  {
   "cell_type": "code",
   "execution_count": null,
   "id": "03bc5880",
   "metadata": {},
   "outputs": [],
   "source": [
    "index_return[['trade_date','pct_chg']].to_csv('输出\\HS300收益率.csv')"
   ]
  }
 ],
 "metadata": {
  "kernelspec": {
   "display_name": "Python 3",
   "language": "python",
   "name": "python3"
  },
  "language_info": {
   "codemirror_mode": {
    "name": "ipython",
    "version": 3
   },
   "file_extension": ".py",
   "mimetype": "text/x-python",
   "name": "python",
   "nbconvert_exporter": "python",
   "pygments_lexer": "ipython3",
   "version": "3.9.7"
  },
  "toc": {
   "base_numbering": 1,
   "nav_menu": {},
   "number_sections": true,
   "sideBar": true,
   "skip_h1_title": false,
   "title_cell": "Table of Contents",
   "title_sidebar": "Contents",
   "toc_cell": false,
   "toc_position": {
    "height": "calc(100% - 180px)",
    "left": "10px",
    "top": "150px",
    "width": "301.634px"
   },
   "toc_section_display": true,
   "toc_window_display": true
  }
 },
 "nbformat": 4,
 "nbformat_minor": 5
}
